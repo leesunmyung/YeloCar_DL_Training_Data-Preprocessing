{
 "cells": [
  {
   "cell_type": "code",
   "execution_count": 1,
   "id": "8aa48255",
   "metadata": {},
   "outputs": [
    {
     "name": "stderr",
     "output_type": "stream",
     "text": [
      "2022-03-15 09:51:20.542673: W tensorflow/stream_executor/platform/default/dso_loader.cc:64] Could not load dynamic library 'libcudart.so.11.0'; dlerror: libcudart.so.11.0: cannot open shared object file: No such file or directory\n",
      "2022-03-15 09:51:20.542715: I tensorflow/stream_executor/cuda/cudart_stub.cc:29] Ignore above cudart dlerror if you do not have a GPU set up on your machine.\n"
     ]
    }
   ],
   "source": [
    "import os\n",
    "import numpy as np\n",
    "import tensorflow as tf\n",
    "import matplotlib as plt\n",
    "import h5py\n",
    "from PIL import Image\n",
    "import cv2\n",
    "import matplotlib.pyplot as plt"
   ]
  },
  {
   "cell_type": "code",
   "execution_count": 2,
   "id": "8eac67a9",
   "metadata": {},
   "outputs": [
    {
     "data": {
      "text/plain": [
       "'/home/vividlee/Desktop/YeloCar'"
      ]
     },
     "execution_count": 2,
     "metadata": {},
     "output_type": "execute_result"
    }
   ],
   "source": [
    "os.getcwd()"
   ]
  },
  {
   "cell_type": "code",
   "execution_count": 3,
   "id": "890d4928",
   "metadata": {},
   "outputs": [
    {
     "name": "stderr",
     "output_type": "stream",
     "text": [
      "2022-03-15 10:06:13.302209: W tensorflow/stream_executor/platform/default/dso_loader.cc:64] Could not load dynamic library 'libcudart.so.11.0'; dlerror: libcudart.so.11.0: cannot open shared object file: No such file or directory; LD_LIBRARY_PATH: /home/vividlee/anaconda3/envs/py38/lib/python3.8/site-packages/cv2/../../lib64:\n",
      "2022-03-15 10:06:13.302319: W tensorflow/stream_executor/platform/default/dso_loader.cc:64] Could not load dynamic library 'libcublas.so.11'; dlerror: libcublas.so.11: cannot open shared object file: No such file or directory; LD_LIBRARY_PATH: /home/vividlee/anaconda3/envs/py38/lib/python3.8/site-packages/cv2/../../lib64:\n",
      "2022-03-15 10:06:13.302393: W tensorflow/stream_executor/platform/default/dso_loader.cc:64] Could not load dynamic library 'libcublasLt.so.11'; dlerror: libcublasLt.so.11: cannot open shared object file: No such file or directory; LD_LIBRARY_PATH: /home/vividlee/anaconda3/envs/py38/lib/python3.8/site-packages/cv2/../../lib64:\n",
      "2022-03-15 10:06:13.329358: W tensorflow/stream_executor/platform/default/dso_loader.cc:64] Could not load dynamic library 'libcusolver.so.11'; dlerror: libcusolver.so.11: cannot open shared object file: No such file or directory; LD_LIBRARY_PATH: /home/vividlee/anaconda3/envs/py38/lib/python3.8/site-packages/cv2/../../lib64:\n",
      "2022-03-15 10:06:13.329550: W tensorflow/stream_executor/platform/default/dso_loader.cc:64] Could not load dynamic library 'libcusparse.so.11'; dlerror: libcusparse.so.11: cannot open shared object file: No such file or directory; LD_LIBRARY_PATH: /home/vividlee/anaconda3/envs/py38/lib/python3.8/site-packages/cv2/../../lib64:\n",
      "2022-03-15 10:06:13.330735: W tensorflow/core/common_runtime/gpu/gpu_device.cc:1850] Cannot dlopen some GPU libraries. Please make sure the missing libraries mentioned above are installed properly if you would like to use GPU. Follow the guide at https://www.tensorflow.org/install/gpu for how to download and setup the required libraries for your platform.\n",
      "Skipping registering GPU devices...\n",
      "2022-03-15 10:06:13.331220: I tensorflow/core/platform/cpu_feature_guard.cc:151] This TensorFlow binary is optimized with oneAPI Deep Neural Network Library (oneDNN) to use the following CPU instructions in performance-critical operations:  AVX2 FMA\n",
      "To enable them in other operations, rebuild TensorFlow with the appropriate compiler flags.\n"
     ]
    },
    {
     "name": "stdout",
     "output_type": "stream",
     "text": [
      "Model: \"sequential\"\n",
      "_________________________________________________________________\n",
      " Layer (type)                Output Shape              Param #   \n",
      "=================================================================\n",
      " conv2d (Conv2D)             (None, 46, 62, 32)        896       \n",
      "                                                                 \n",
      " max_pooling2d (MaxPooling2D  (None, 23, 31, 32)       0         \n",
      " )                                                               \n",
      "                                                                 \n",
      " conv2d_1 (Conv2D)           (None, 21, 29, 32)        9248      \n",
      "                                                                 \n",
      " max_pooling2d_1 (MaxPooling  (None, 10, 14, 32)       0         \n",
      " 2D)                                                             \n",
      "                                                                 \n",
      " conv2d_2 (Conv2D)           (None, 8, 12, 32)         9248      \n",
      "                                                                 \n",
      " max_pooling2d_2 (MaxPooling  (None, 4, 6, 32)         0         \n",
      " 2D)                                                             \n",
      "                                                                 \n",
      " flatten (Flatten)           (None, 768)               0         \n",
      "                                                                 \n",
      " dense (Dense)               (None, 128)               98432     \n",
      "                                                                 \n",
      " dense_1 (Dense)             (None, 64)                8256      \n",
      "                                                                 \n",
      " dense_2 (Dense)             (None, 2)                 130       \n",
      "                                                                 \n",
      "=================================================================\n",
      "Total params: 126,210\n",
      "Trainable params: 126,210\n",
      "Non-trainable params: 0\n",
      "_________________________________________________________________\n"
     ]
    },
    {
     "name": "stderr",
     "output_type": "stream",
     "text": [
      "2022-03-15 10:06:13.412514: W tensorflow/core/framework/cpu_allocator_impl.cc:82] Allocation of 6699405312 exceeds 10% of free system memory.\n"
     ]
    },
    {
     "name": "stdout",
     "output_type": "stream",
     "text": [
      "Epoch 1/100\n",
      "710/710 [==============================] - ETA: 0s - loss: 0.0522 - mae: 0.0522 - mse: 0.0074\n",
      "Epoch 00001: val_mae improved from inf to 0.07101, saving model to ./Model/Model_test6_0315_deep4pc_test4_all/0315_model_patience5_01-0.0710\n"
     ]
    },
    {
     "name": "stderr",
     "output_type": "stream",
     "text": [
      "2022-03-15 10:08:15.729071: W tensorflow/python/util/util.cc:368] Sets are not currently considered sequences, but this may change in the future, so consider avoiding using them.\n"
     ]
    },
    {
     "name": "stdout",
     "output_type": "stream",
     "text": [
      "INFO:tensorflow:Assets written to: ./Model/Model_test6_0315_deep4pc_test4_all/0315_model_patience5_01-0.0710/assets\n",
      "710/710 [==============================] - 120s 168ms/step - loss: 0.0522 - mae: 0.0522 - mse: 0.0074 - val_loss: 0.0710 - val_mae: 0.0710 - val_mse: 0.0112\n",
      "Epoch 2/100\n",
      "710/710 [==============================] - ETA: 0s - loss: 0.0483 - mae: 0.0483 - mse: 0.0065\n",
      "Epoch 00002: val_mae improved from 0.07101 to 0.06942, saving model to ./Model/Model_test6_0315_deep4pc_test4_all/0315_model_patience5_02-0.0694\n",
      "INFO:tensorflow:Assets written to: ./Model/Model_test6_0315_deep4pc_test4_all/0315_model_patience5_02-0.0694/assets\n",
      "710/710 [==============================] - 118s 166ms/step - loss: 0.0483 - mae: 0.0483 - mse: 0.0065 - val_loss: 0.0694 - val_mae: 0.0694 - val_mse: 0.0109\n",
      "Epoch 3/100\n",
      "710/710 [==============================] - ETA: 0s - loss: 0.0473 - mae: 0.0473 - mse: 0.0063\n",
      "Epoch 00003: val_mae improved from 0.06942 to 0.06884, saving model to ./Model/Model_test6_0315_deep4pc_test4_all/0315_model_patience5_03-0.0688\n",
      "INFO:tensorflow:Assets written to: ./Model/Model_test6_0315_deep4pc_test4_all/0315_model_patience5_03-0.0688/assets\n",
      "710/710 [==============================] - 117s 165ms/step - loss: 0.0473 - mae: 0.0473 - mse: 0.0063 - val_loss: 0.0688 - val_mae: 0.0688 - val_mse: 0.0108\n",
      "Epoch 4/100\n",
      "710/710 [==============================] - ETA: 0s - loss: 0.0465 - mae: 0.0465 - mse: 0.0060\n",
      "Epoch 00004: val_mae did not improve from 0.06884\n",
      "710/710 [==============================] - 117s 164ms/step - loss: 0.0465 - mae: 0.0465 - mse: 0.0060 - val_loss: 0.0697 - val_mae: 0.0697 - val_mse: 0.0109\n",
      "Epoch 5/100\n",
      "710/710 [==============================] - ETA: 0s - loss: 0.0458 - mae: 0.0458 - mse: 0.0058\n",
      "Epoch 00005: val_mae did not improve from 0.06884\n",
      "710/710 [==============================] - 117s 165ms/step - loss: 0.0458 - mae: 0.0458 - mse: 0.0058 - val_loss: 0.0689 - val_mae: 0.0689 - val_mse: 0.0107\n",
      "Epoch 6/100\n",
      "710/710 [==============================] - ETA: 0s - loss: 0.0449 - mae: 0.0449 - mse: 0.0056\n",
      "Epoch 00006: val_mae did not improve from 0.06884\n",
      "710/710 [==============================] - 118s 166ms/step - loss: 0.0449 - mae: 0.0449 - mse: 0.0056 - val_loss: 0.0707 - val_mae: 0.0707 - val_mse: 0.0109\n",
      "\n",
      "\n",
      "1426/1426 [==============================] - 8s 6ms/step - loss: 0.0707 - mae: 0.0707 - mse: 0.0109\n",
      "[0.07065201550722122, 0.07065201550722122, 0.010946603491902351]\n",
      "[0.07101207971572876, 0.06941789388656616, 0.06884469836950302, 0.06969855725765228, 0.06888938695192337, 0.07065195590257645]\n",
      "[0.05218978226184845, 0.04832511767745018, 0.04733075201511383, 0.04650542885065079, 0.04579167068004608, 0.044918354600667953]\n",
      "[0.07101207971572876, 0.06941789388656616, 0.06884469836950302, 0.06969855725765228, 0.06888938695192337, 0.07065195590257645]\n",
      "[0.05218978226184845, 0.04832511767745018, 0.04733075201511383, 0.04650542885065079, 0.04579167068004608, 0.044918354600667953]\n",
      "tf.Tensor(\n",
      "[[0.43163568 0.23313572]\n",
      " [0.4318049  0.23304598]\n",
      " [0.4346253  0.23069437]\n",
      " [0.46506026 0.23036483]\n",
      " [0.46757433 0.23104598]\n",
      " [0.42830858 0.2260434 ]\n",
      " [0.42716923 0.22745386]\n",
      " [0.4378176  0.22331803]\n",
      " [0.42154273 0.23109168]\n",
      " [0.4310252  0.23154967]\n",
      " [0.43657616 0.22843412]\n",
      " [0.41971004 0.22643413]\n",
      " [0.4197267  0.22644459]\n",
      " [0.3883511  0.22895265]\n",
      " [0.4044592  0.22922795]\n",
      " [0.4050874  0.22924004]\n",
      " [0.3978138  0.2304844 ]\n",
      " [0.39785838 0.23050077]\n",
      " [0.42624658 0.2299414 ]\n",
      " [0.4262635  0.229942  ]], shape=(20, 2), dtype=float32)\n"
     ]
    }
   ],
   "source": [
    "# Again, 2022.03.15\n",
    "# one final HDF5\n",
    "# Model_deep4pc_test4_all\n",
    "\n",
    "def createFolder(directory):\n",
    "    try:\n",
    "        if not os.path.exists(directory):\n",
    "            os.makedirs(directory)\n",
    "    except OSError:\n",
    "        print ('Error: Creating directory. ' +  directory)\n",
    "\n",
    "dataset_version = 'deep4pc_test4_all'\n",
    "\n",
    "model_version = '0315_model_' + 'patience3'\n",
    "\n",
    "createFolder('./Test/' + model_version)\n",
    "\n",
    "with h5py.File('./Model/Model_' + dataset_version + '/dataset_hsv_' + dataset_version + '.hdf5', 'r') as hf:\n",
    "    image_train = np.array(hf['x_train'][:, :, :, :])\n",
    "    action_train = np.array(hf['y_train'][:, :])\n",
    "    image_val = np.array(hf['x_val'][:, :, :, :])\n",
    "    action_val = np.array(hf['y_val'][:, :])\n",
    "    \n",
    "    \n",
    "(x_train, y_train), (x_test, y_test) = (image_train, action_train), (image_val, action_val)\n",
    "\n",
    "x_train /= 255.\n",
    "x_test /= 255.\n",
    "\n",
    "model = tf.keras.models.Sequential([\n",
    "    tf.keras.layers.Conv2D(32, 3, activation='relu', input_shape=(48, 64, 3)),\n",
    "    tf.keras.layers.MaxPooling2D(),\n",
    "    tf.keras.layers.Conv2D(32, 3, activation='relu'),\n",
    "    tf.keras.layers.MaxPooling2D(),\n",
    "    tf.keras.layers.Conv2D(32, 3, activation='relu'),\n",
    "    tf.keras.layers.MaxPooling2D(),\n",
    "    tf.keras.layers.Flatten(),\n",
    "    tf.keras.layers.Dense(128, activation='relu'),\n",
    "    tf.keras.layers.Dense(64, activation='relu'),\n",
    "    tf.keras.layers.Dense(2)\n",
    "])\n",
    "\n",
    "# optimizer = tf.keras.optimizers.RMSprop(0.001)\n",
    "\n",
    "model.compile(loss='mae', optimizer='adam', metrics=['mae', 'mse'])\n",
    "\n",
    "model.summary()\n",
    "\n",
    "model_path = './Model/Model_test6_0315_' + dataset_version + '/' + model_version + '_{epoch:02d}-{val_mae:.4f}'\n",
    "\n",
    "checkpointer = tf.keras.callbacks.ModelCheckpoint(filepath= model_path, monitor='val_mae', verbose=1, save_best_only=True)\n",
    "early_stopping_callback = tf.keras.callbacks.EarlyStopping(monitor='val_mae', patience=3)\n",
    "\n",
    "history = model.fit(x=x_train, y=y_train, batch_size=256, epochs=100, validation_data=(x_test, y_test), callbacks=[early_stopping_callback, checkpointer])\n",
    "\n",
    "print(\"\\n\")\n",
    "print(model.evaluate(x_test, y_test))\n",
    "\n",
    "\n",
    "y_vloss = history.history['val_loss']   # testset\n",
    "y_loss = history.history['loss']        # trainset\n",
    "\n",
    "y_vmae = history.history['val_mae']\n",
    "y_mae = history.history['mae']\n",
    "\n",
    "print(y_vloss)\n",
    "print(y_loss)\n",
    "print(y_vmae)\n",
    "print(y_mae)\n",
    "\n",
    "outputs = model(x_test[0:20])\n",
    "\n",
    "print(outputs)\n",
    "\n",
    "f = open('./Test/' + model_version + '/' + model_version + '_test.txt', 'a')\n",
    "f.write(\"{}\".format(outputs))\n",
    "\n",
    "x_test *= 255\n",
    "    \n",
    "for i in range (0, 20) :\n",
    "    cv2.imwrite('./Test/' + model_version + '/'+ model_version + '_' + str(i) + '.jpeg', x_test[i])"
   ]
  },
  {
   "cell_type": "code",
   "execution_count": 6,
   "id": "0163202c",
   "metadata": {},
   "outputs": [
    {
     "name": "stdout",
     "output_type": "stream",
     "text": [
      "[0.07101207971572876, 0.06941789388656616, 0.06884469836950302, 0.06969855725765228, 0.06888938695192337, 0.07065195590257645]\n",
      "\n",
      "\n",
      "[0.05218978226184845, 0.04832511767745018, 0.04733075201511383, 0.04650542885065079, 0.04579167068004608, 0.044918354600667953]\n",
      "\n",
      "\n",
      "[0.07101207971572876, 0.06941789388656616, 0.06884469836950302, 0.06969855725765228, 0.06888938695192337, 0.07065195590257645]\n",
      "\n",
      "\n",
      "[0.05218978226184845, 0.04832511767745018, 0.04733075201511383, 0.04650542885065079, 0.04579167068004608, 0.044918354600667953]\n",
      "\n",
      "\n",
      "6\n",
      "\n",
      "\n"
     ]
    },
    {
     "data": {
      "image/png": "[encoded data removed]",
      "text/plain": [
       "<Figure size 720x576 with 1 Axes>"
      ]
     },
     "metadata": {
      "needs_background": "light"
     },
     "output_type": "display_data"
    },
    {
     "data": {
      "text/plain": [
       "<function matplotlib.pyplot.show(close=None, block=None)>"
      ]
     },
     "execution_count": 6,
     "metadata": {},
     "output_type": "execute_result"
    },
    {
     "data": {
      "image/png": "[encoded data removed]",
      "text/plain": [
       "<Figure size 720x576 with 1 Axes>"
      ]
     },
     "metadata": {
      "needs_background": "light"
     },
     "output_type": "display_data"
    }
   ],
   "source": [
    "y_vloss = history.history['val_loss']   # testset\n",
    "y_loss = history.history['loss']        # trainset\n",
    "print(y_vloss)\n",
    "print('\\n')\n",
    "print(y_loss)\n",
    "print('\\n')\n",
    "y_vmae = history.history['val_mae']\n",
    "y_mae = history.history['mae']\n",
    "print(y_vmae)\n",
    "print('\\n')\n",
    "print(y_mae)\n",
    "print('\\n')\n",
    "x_len = np.arange(len(y_loss))\n",
    "print(len(y_loss))\n",
    "print('\\n')\n",
    "\n",
    "plt.figure(figsize=(10, 8))\n",
    "plt.plot(x_len+1, y_vloss, 'ro--', label='val_loss')\n",
    "plt.plot(x_len+1, y_loss, 'bo-', label='loss')\n",
    "plt.xlabel('Epoch', fontsize=14)\n",
    "plt.ylabel('Loss', fontsize=14)\n",
    "plt.legend(loc='upper right', fontsize=14)\n",
    "plt.xlim([0.5, len(y_loss)+0.5])\n",
    "plt.ylim([0.03, 0.08])\n",
    "plt.xticks([1, 3, 5, 7],fontsize=13)\n",
    "plt.yticks(fontsize=13)\n",
    "plt.grid()\n",
    "plt.show()\n",
    "\n",
    "plt.figure(figsize=(10, 8))\n",
    "plt.plot(x_len+1, y_vmae, 'ro--', label='val_mae')\n",
    "plt.plot(x_len+1, y_mae, 'bo-', label='mae')\n",
    "plt.xlabel('Epoch', fontsize=14)\n",
    "plt.ylabel('MAE', fontsize=14)\n",
    "plt.legend(loc='upper right', fontsize=14)\n",
    "plt.xlim([0.5, len(y_loss)+0.5])\n",
    "plt.ylim([0.03, 0.08])\n",
    "plt.xticks([1, 3, 5, 7], fontsize=13)\n",
    "plt.yticks(fontsize=13)\n",
    "plt.grid()\n",
    "plt.show"
   ]
  },
  {
   "cell_type": "code",
   "execution_count": null,
   "id": "bf5513e2",
   "metadata": {},
   "outputs": [],
   "source": []
  }
 ],
 "metadata": {
  "kernelspec": {
   "display_name": "Python 3 (ipykernel)",
   "language": "python",
   "name": "python3"
  },
  "language_info": {
   "codemirror_mode": {
    "name": "ipython",
    "version": 3
   },
   "file_extension": ".py",
   "mimetype": "text/x-python",
   "name": "python",
   "nbconvert_exporter": "python",
   "pygments_lexer": "ipython3",
   "version": "3.8.12"
  }
 },
 "nbformat": 4,
 "nbformat_minor": 5
}
