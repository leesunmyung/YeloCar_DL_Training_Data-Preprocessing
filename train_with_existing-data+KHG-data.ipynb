{
 "cells": [
  {
   "cell_type": "code",
   "execution_count": 32,
   "metadata": {},
   "outputs": [],
   "source": [
    "import os\n",
    "import numpy as np\n",
    "import tensorflow as tf\n",
    "import matplotlib as plt\n",
    "import h5py\n",
    "from PIL import Image\n",
    "import cv2\n",
    "import matplotlib.pyplot as plt"
   ]
  },
  {
   "cell_type": "code",
   "execution_count": 23,
   "metadata": {},
   "outputs": [
    {
     "data": {
      "text/plain": [
       "'/home/vividlee/Desktop/YeloCar'"
      ]
     },
     "execution_count": 23,
     "metadata": {},
     "output_type": "execute_result"
    }
   ],
   "source": [
    "os.getcwd()"
   ]
  },
  {
   "cell_type": "code",
   "execution_count": 24,
   "metadata": {},
   "outputs": [
    {
     "name": "stdout",
     "output_type": "stream",
     "text": [
      "['dataset_hsv_deep4pc_test4_all.hdf5', 'dataset_hsv_01.hdf5']\n"
     ]
    }
   ],
   "source": [
    "os.getcwd()\n",
    "os.chdir('/home/vividlee/Desktop/YeloCar/HDF5/deep4pc_test5/')\n",
    "\n",
    "hdf5_files = os.listdir()\n",
    "print(hdf5_files)"
   ]
  },
  {
   "cell_type": "code",
   "execution_count": 25,
   "metadata": {},
   "outputs": [
    {
     "data": {
      "text/plain": [
       "'/home/vividlee/Desktop/YeloCar/HDF5/deep4pc_test5'"
      ]
     },
     "execution_count": 25,
     "metadata": {},
     "output_type": "execute_result"
    }
   ],
   "source": [
    "os.getcwd()"
   ]
  },
  {
   "cell_type": "code",
   "execution_count": 26,
   "metadata": {},
   "outputs": [
    {
     "name": "stdout",
     "output_type": "stream",
     "text": [
      "dataset_hsv_deep4pc_test4_all.hdf5\n",
      "dataset_hsv_01.hdf5\n",
      "write in /Model/Model_test5_existing-data+KHG-data/dataset_hsv_test5_existing-data+KHG-data.hdf5\n",
      "\n"
     ]
    }
   ],
   "source": [
    "# downloading KHG0data\n",
    "\n",
    "# existing-data : dataset_hsv_deep4pc_test4_all.hdf5\n",
    "# KHG-data : dataset_hsv_01.hdf5\n",
    "# merged data including 'existing-data+KHG-data'\n",
    "\n",
    "def createFolder(directory):\n",
    "    try:\n",
    "        if not os.path.exists(directory):\n",
    "            os.makedirs(directory)\n",
    "    except OSError:\n",
    "        print ('Error: Creating directory. ' +  directory)\n",
    "        \n",
    "test_name = 'test5_'\n",
    "merged_data = 'existing-data+KHG-data'\n",
    "\n",
    "image_train = None\n",
    "action_train = None\n",
    "image_val = None\n",
    "action_val = None\n",
    "    \n",
    "for hdf5_file in hdf5_files :\n",
    "    print(hdf5_file)\n",
    "    \n",
    "    with h5py.File('./' + hdf5_file, 'r') as hf :\n",
    "        if image_train is None:\n",
    "            image_train = np.array(hf['x_train'][:, :, :, :])\n",
    "            action_train = np.array(hf['y_train'][:, :])\n",
    "            image_val = np.array(hf['x_val'][:, :, :, :])\n",
    "            action_val = np.array(hf['y_val'][:, :])\n",
    "        else:\n",
    "            image_train = np.concatenate((image_train, hf['x_train']), axis=0)\n",
    "            action_train = np.concatenate((action_train, hf['y_train']), axis=0)\n",
    "            image_val = np.concatenate((image_val, hf['x_val']), axis=0)\n",
    "            action_val = np.concatenate((action_val, hf['y_val']), axis=0)\n",
    "\n",
    "train_len = len(image_train)\n",
    "val_len = len(image_val)\n",
    "\n",
    "os.chdir('/home/vividlee/Desktop/YeloCar')\n",
    "os.getcwd()\n",
    "\n",
    "model_directory = 'Model_' + test_name + merged_data\n",
    "createFolder('./Model/' + model_directory)\n",
    " \n",
    "with h5py.File('./Model/' + model_directory + '/dataset_hsv_' + test_name + merged_data + '.hdf5', 'w') as hf:\n",
    "    print(\"write in /Model/\"  + model_directory + \"/dataset_hsv_\" + test_name +  merged_data + \".hdf5\\n\")\n",
    "    dset_x_train = hf.create_dataset('x_train', (train_len, 48, 64, 3), chunks=True, compression=\"gzip\")\n",
    "    dset_y_train = hf.create_dataset('y_train', (train_len, 2), chunks=True, compression=\"gzip\")\n",
    "    dset_x_val = hf.create_dataset('x_val', (val_len, 48, 64, 3), chunks=True, compression=\"gzip\")\n",
    "    dset_y_val = hf.create_dataset('y_val', (val_len, 2), chunks=True, compression=\"gzip\")\n",
    "\n",
    "    dset_x_train[:, :, :, :] = image_train\n",
    "    dset_y_train[:, :] = action_train\n",
    "    dset_x_val[:, :, :, :] = image_val\n",
    "    dset_y_val[:, :] = action_val"
   ]
  },
  {
   "cell_type": "code",
   "execution_count": 27,
   "metadata": {},
   "outputs": [
    {
     "name": "stderr",
     "output_type": "stream",
     "text": [
      "2022-02-21 16:22:06.419153: W tensorflow/stream_executor/platform/default/dso_loader.cc:64] Could not load dynamic library 'libcudart.so.11.0'; dlerror: libcudart.so.11.0: cannot open shared object file: No such file or directory; LD_LIBRARY_PATH: /home/vividlee/anaconda3/envs/py38/lib/python3.8/site-packages/cv2/../../lib64:\n",
      "2022-02-21 16:22:06.419249: W tensorflow/stream_executor/platform/default/dso_loader.cc:64] Could not load dynamic library 'libcublas.so.11'; dlerror: libcublas.so.11: cannot open shared object file: No such file or directory; LD_LIBRARY_PATH: /home/vividlee/anaconda3/envs/py38/lib/python3.8/site-packages/cv2/../../lib64:\n",
      "2022-02-21 16:22:06.419324: W tensorflow/stream_executor/platform/default/dso_loader.cc:64] Could not load dynamic library 'libcublasLt.so.11'; dlerror: libcublasLt.so.11: cannot open shared object file: No such file or directory; LD_LIBRARY_PATH: /home/vividlee/anaconda3/envs/py38/lib/python3.8/site-packages/cv2/../../lib64:\n",
      "2022-02-21 16:22:06.447392: W tensorflow/stream_executor/platform/default/dso_loader.cc:64] Could not load dynamic library 'libcusolver.so.11'; dlerror: libcusolver.so.11: cannot open shared object file: No such file or directory; LD_LIBRARY_PATH: /home/vividlee/anaconda3/envs/py38/lib/python3.8/site-packages/cv2/../../lib64:\n",
      "2022-02-21 16:22:06.447599: W tensorflow/stream_executor/platform/default/dso_loader.cc:64] Could not load dynamic library 'libcusparse.so.11'; dlerror: libcusparse.so.11: cannot open shared object file: No such file or directory; LD_LIBRARY_PATH: /home/vividlee/anaconda3/envs/py38/lib/python3.8/site-packages/cv2/../../lib64:\n",
      "2022-02-21 16:22:06.448968: W tensorflow/core/common_runtime/gpu/gpu_device.cc:1850] Cannot dlopen some GPU libraries. Please make sure the missing libraries mentioned above are installed properly if you would like to use GPU. Follow the guide at https://www.tensorflow.org/install/gpu for how to download and setup the required libraries for your platform.\n",
      "Skipping registering GPU devices...\n",
      "2022-02-21 16:22:06.449994: I tensorflow/core/platform/cpu_feature_guard.cc:151] This TensorFlow binary is optimized with oneAPI Deep Neural Network Library (oneDNN) to use the following CPU instructions in performance-critical operations:  AVX2 FMA\n",
      "To enable them in other operations, rebuild TensorFlow with the appropriate compiler flags.\n",
      "2022-02-21 16:22:06.529184: W tensorflow/core/framework/cpu_allocator_impl.cc:82] Allocation of 9471909888 exceeds 10% of free system memory.\n"
     ]
    },
    {
     "name": "stdout",
     "output_type": "stream",
     "text": [
      "Model: \"sequential\"\n",
      "_________________________________________________________________\n",
      " Layer (type)                Output Shape              Param #   \n",
      "=================================================================\n",
      " conv2d (Conv2D)             (None, 46, 62, 32)        896       \n",
      "                                                                 \n",
      " max_pooling2d (MaxPooling2D  (None, 23, 31, 32)       0         \n",
      " )                                                               \n",
      "                                                                 \n",
      " conv2d_1 (Conv2D)           (None, 21, 29, 32)        9248      \n",
      "                                                                 \n",
      " max_pooling2d_1 (MaxPooling  (None, 10, 14, 32)       0         \n",
      " 2D)                                                             \n",
      "                                                                 \n",
      " conv2d_2 (Conv2D)           (None, 8, 12, 32)         9248      \n",
      "                                                                 \n",
      " max_pooling2d_2 (MaxPooling  (None, 4, 6, 32)         0         \n",
      " 2D)                                                             \n",
      "                                                                 \n",
      " flatten (Flatten)           (None, 768)               0         \n",
      "                                                                 \n",
      " dense (Dense)               (None, 128)               98432     \n",
      "                                                                 \n",
      " dense_1 (Dense)             (None, 64)                8256      \n",
      "                                                                 \n",
      " dense_2 (Dense)             (None, 2)                 130       \n",
      "                                                                 \n",
      "=================================================================\n",
      "Total params: 126,210\n",
      "Trainable params: 126,210\n",
      "Non-trainable params: 0\n",
      "_________________________________________________________________\n",
      "Epoch 1/100\n",
      "1004/1004 [==============================] - ETA: 0s - loss: 0.0599 - mae: 0.0599 - mse: 0.0096\n",
      "Epoch 00001: val_mae improved from inf to 0.06644, saving model to ./Model/Model_test5_existing-data+KHG-data/model_1_p5_01_0.0599_0.0664\n"
     ]
    },
    {
     "name": "stderr",
     "output_type": "stream",
     "text": [
      "2022-02-21 16:24:58.868980: W tensorflow/python/util/util.cc:368] Sets are not currently considered sequences, but this may change in the future, so consider avoiding using them.\n"
     ]
    },
    {
     "name": "stdout",
     "output_type": "stream",
     "text": [
      "INFO:tensorflow:Assets written to: ./Model/Model_test5_existing-data+KHG-data/model_1_p5_01_0.0599_0.0664/assets\n",
      "1004/1004 [==============================] - 169s 167ms/step - loss: 0.0599 - mae: 0.0599 - mse: 0.0096 - val_loss: 0.0664 - val_mae: 0.0664 - val_mse: 0.0107\n",
      "Epoch 2/100\n",
      "1004/1004 [==============================] - ETA: 0s - loss: 0.0509 - mae: 0.0509 - mse: 0.0078\n",
      "Epoch 00002: val_mae improved from 0.06644 to 0.06590, saving model to ./Model/Model_test5_existing-data+KHG-data/model_1_p5_02_0.0509_0.0659\n",
      "INFO:tensorflow:Assets written to: ./Model/Model_test5_existing-data+KHG-data/model_1_p5_02_0.0509_0.0659/assets\n",
      "1004/1004 [==============================] - 167s 166ms/step - loss: 0.0509 - mae: 0.0509 - mse: 0.0078 - val_loss: 0.0659 - val_mae: 0.0659 - val_mse: 0.0106\n",
      "Epoch 3/100\n",
      "1004/1004 [==============================] - ETA: 0s - loss: 0.0489 - mae: 0.0489 - mse: 0.0074\n",
      "Epoch 00003: val_mae improved from 0.06590 to 0.06547, saving model to ./Model/Model_test5_existing-data+KHG-data/model_1_p5_03_0.0489_0.0655\n",
      "INFO:tensorflow:Assets written to: ./Model/Model_test5_existing-data+KHG-data/model_1_p5_03_0.0489_0.0655/assets\n",
      "1004/1004 [==============================] - 169s 168ms/step - loss: 0.0489 - mae: 0.0489 - mse: 0.0074 - val_loss: 0.0655 - val_mae: 0.0655 - val_mse: 0.0101\n",
      "Epoch 4/100\n",
      "1004/1004 [==============================] - ETA: 0s - loss: 0.0476 - mae: 0.0476 - mse: 0.0071\n",
      "Epoch 00004: val_mae improved from 0.06547 to 0.06431, saving model to ./Model/Model_test5_existing-data+KHG-data/model_1_p5_04_0.0476_0.0643\n",
      "INFO:tensorflow:Assets written to: ./Model/Model_test5_existing-data+KHG-data/model_1_p5_04_0.0476_0.0643/assets\n",
      "1004/1004 [==============================] - 168s 168ms/step - loss: 0.0476 - mae: 0.0476 - mse: 0.0071 - val_loss: 0.0643 - val_mae: 0.0643 - val_mse: 0.0100\n",
      "Epoch 5/100\n",
      "1004/1004 [==============================] - ETA: 0s - loss: 0.0465 - mae: 0.0465 - mse: 0.0068\n",
      "Epoch 00005: val_mae did not improve from 0.06431\n",
      "1004/1004 [==============================] - 167s 166ms/step - loss: 0.0465 - mae: 0.0465 - mse: 0.0068 - val_loss: 0.0652 - val_mae: 0.0652 - val_mse: 0.0104\n",
      "Epoch 6/100\n",
      "1004/1004 [==============================] - ETA: 0s - loss: 0.0456 - mae: 0.0456 - mse: 0.0066\n",
      "Epoch 00006: val_mae did not improve from 0.06431\n",
      "1004/1004 [==============================] - 167s 167ms/step - loss: 0.0456 - mae: 0.0456 - mse: 0.0066 - val_loss: 0.0647 - val_mae: 0.0647 - val_mse: 0.0098\n",
      "Epoch 7/100\n",
      "1004/1004 [==============================] - ETA: 0s - loss: 0.0448 - mae: 0.0448 - mse: 0.0065\n",
      "Epoch 00007: val_mae did not improve from 0.06431\n",
      "1004/1004 [==============================] - 168s 167ms/step - loss: 0.0448 - mae: 0.0448 - mse: 0.0065 - val_loss: 0.0653 - val_mae: 0.0653 - val_mse: 0.0106\n",
      "Epoch 8/100\n",
      "1004/1004 [==============================] - ETA: 0s - loss: 0.0441 - mae: 0.0441 - mse: 0.0063\n",
      "Epoch 00008: val_mae did not improve from 0.06431\n",
      "1004/1004 [==============================] - 168s 167ms/step - loss: 0.0441 - mae: 0.0441 - mse: 0.0063 - val_loss: 0.0653 - val_mae: 0.0653 - val_mse: 0.0106\n",
      "Epoch 9/100\n",
      "1004/1004 [==============================] - ETA: 0s - loss: 0.0435 - mae: 0.0435 - mse: 0.0062\n",
      "Epoch 00009: val_mae did not improve from 0.06431\n",
      "1004/1004 [==============================] - 167s 166ms/step - loss: 0.0435 - mae: 0.0435 - mse: 0.0062 - val_loss: 0.0655 - val_mae: 0.0655 - val_mse: 0.0104\n",
      "Epoch 10/100\n",
      "1004/1004 [==============================] - ETA: 0s - loss: 0.0429 - mae: 0.0429 - mse: 0.0061\n",
      "Epoch 00010: val_mae did not improve from 0.06431\n",
      "1004/1004 [==============================] - 168s 167ms/step - loss: 0.0429 - mae: 0.0429 - mse: 0.0061 - val_loss: 0.0652 - val_mae: 0.0652 - val_mse: 0.0104\n",
      "Epoch 11/100\n",
      "1004/1004 [==============================] - ETA: 0s - loss: 0.0425 - mae: 0.0425 - mse: 0.0060\n",
      "Epoch 00011: val_mae did not improve from 0.06431\n",
      "1004/1004 [==============================] - 168s 167ms/step - loss: 0.0425 - mae: 0.0425 - mse: 0.0060 - val_loss: 0.0644 - val_mae: 0.0644 - val_mse: 0.0100\n",
      "Epoch 12/100\n",
      "1004/1004 [==============================] - ETA: 0s - loss: 0.0420 - mae: 0.0420 - mse: 0.0059\n",
      "Epoch 00012: val_mae did not improve from 0.06431\n",
      "1004/1004 [==============================] - 168s 168ms/step - loss: 0.0420 - mae: 0.0420 - mse: 0.0059 - val_loss: 0.0651 - val_mae: 0.0651 - val_mse: 0.0101\n",
      "Epoch 13/100\n",
      "1004/1004 [==============================] - ETA: 0s - loss: 0.0416 - mae: 0.0416 - mse: 0.0058\n",
      "Epoch 00013: val_mae did not improve from 0.06431\n",
      "1004/1004 [==============================] - 168s 167ms/step - loss: 0.0416 - mae: 0.0416 - mse: 0.0058 - val_loss: 0.0667 - val_mae: 0.0667 - val_mse: 0.0108\n",
      "Epoch 14/100\n",
      "1004/1004 [==============================] - ETA: 0s - loss: 0.0412 - mae: 0.0412 - mse: 0.0057\n",
      "Epoch 00014: val_mae did not improve from 0.06431\n",
      "1004/1004 [==============================] - 169s 169ms/step - loss: 0.0412 - mae: 0.0412 - mse: 0.0057 - val_loss: 0.0649 - val_mae: 0.0649 - val_mse: 0.0102\n",
      "\n",
      "\n",
      "2014/2014 [==============================] - 12s 6ms/step - loss: 0.0649 - mae: 0.0649 - mse: 0.0102\n",
      "[0.06490463763475418, 0.06490463763475418, 0.010246477089822292]\n",
      "[0.06644020974636078, 0.06590058654546738, 0.06546829640865326, 0.06431181728839874, 0.06523092091083527, 0.06465049088001251, 0.06532075256109238, 0.06532999128103256, 0.06547509133815765, 0.06517685949802399, 0.06435021013021469, 0.06510477513074875, 0.06665048748254776, 0.06490464508533478]\n",
      "\n",
      "\n",
      "[0.05993957072496414, 0.05088336393237114, 0.04892105236649513, 0.04760449752211571, 0.046500492841005325, 0.045623794198036194, 0.04482612758874893, 0.044140271842479706, 0.0434737503528595, 0.042932868003845215, 0.042483504861593246, 0.042019087821245193, 0.04163806140422821, 0.04120723158121109]\n",
      "\n",
      "\n",
      "[0.06644020974636078, 0.06590058654546738, 0.06546829640865326, 0.06431181728839874, 0.06523092091083527, 0.06465049088001251, 0.06532075256109238, 0.06532999128103256, 0.06547509133815765, 0.06517685949802399, 0.06435021013021469, 0.06510477513074875, 0.06665048748254776, 0.06490464508533478]\n",
      "\n",
      "\n",
      "[0.05993957072496414, 0.05088336393237114, 0.04892105236649513, 0.04760449752211571, 0.046500492841005325, 0.045623794198036194, 0.04482612758874893, 0.044140271842479706, 0.0434737503528595, 0.042932868003845215, 0.042483504861593246, 0.042019087821245193, 0.04163806140422821, 0.04120723158121109]\n",
      "\n",
      "\n"
     ]
    },
    {
     "ename": "NameError",
     "evalue": "name 'numpy' is not defined",
     "output_type": "error",
     "traceback": [
      "\u001b[0;31m---------------------------------------------------------------------------\u001b[0m",
      "\u001b[0;31mNameError\u001b[0m                                 Traceback (most recent call last)",
      "\u001b[0;32m/tmp/ipykernel_30004/34237705.py\u001b[0m in \u001b[0;36m<module>\u001b[0;34m\u001b[0m\n\u001b[1;32m     83\u001b[0m \u001b[0mprint\u001b[0m\u001b[0;34m(\u001b[0m\u001b[0my_mae\u001b[0m\u001b[0;34m)\u001b[0m\u001b[0;34m\u001b[0m\u001b[0;34m\u001b[0m\u001b[0m\n\u001b[1;32m     84\u001b[0m \u001b[0mprint\u001b[0m\u001b[0;34m(\u001b[0m\u001b[0;34m'\\n'\u001b[0m\u001b[0;34m)\u001b[0m\u001b[0;34m\u001b[0m\u001b[0;34m\u001b[0m\u001b[0m\n\u001b[0;32m---> 85\u001b[0;31m \u001b[0mx_len\u001b[0m \u001b[0;34m=\u001b[0m \u001b[0mnumpy\u001b[0m\u001b[0;34m.\u001b[0m\u001b[0marange\u001b[0m\u001b[0;34m(\u001b[0m\u001b[0mlen\u001b[0m\u001b[0;34m(\u001b[0m\u001b[0my_loss\u001b[0m\u001b[0;34m)\u001b[0m\u001b[0;34m)\u001b[0m\u001b[0;34m\u001b[0m\u001b[0;34m\u001b[0m\u001b[0m\n\u001b[0m\u001b[1;32m     86\u001b[0m \u001b[0mprint\u001b[0m\u001b[0;34m(\u001b[0m\u001b[0mlen\u001b[0m\u001b[0;34m(\u001b[0m\u001b[0my_loss\u001b[0m\u001b[0;34m)\u001b[0m\u001b[0;34m)\u001b[0m\u001b[0;34m\u001b[0m\u001b[0;34m\u001b[0m\u001b[0m\n\u001b[1;32m     87\u001b[0m \u001b[0mprint\u001b[0m\u001b[0;34m(\u001b[0m\u001b[0;34m'\\n'\u001b[0m\u001b[0;34m)\u001b[0m\u001b[0;34m\u001b[0m\u001b[0;34m\u001b[0m\u001b[0m\n",
      "\u001b[0;31mNameError\u001b[0m: name 'numpy' is not defined"
     ]
    }
   ],
   "source": [
    "os.chdir('/home/vividlee/Desktop/YeloCar')\n",
    "os.getcwd()\n",
    "\n",
    "def createFolder(directory):\n",
    "    try:\n",
    "        if not os.path.exists(directory):\n",
    "            os.makedirs(directory)\n",
    "    except OSError:\n",
    "        print ('Error: Creating directory. ' +  directory)\n",
    "\n",
    "dataset_version = 'deep4pc_test5'\n",
    "model_version = 'model_' + '1_p5'\n",
    "\n",
    "# createFolder('./Test/' + model_version)\n",
    "\n",
    "with h5py.File('./Model/Model_test5_existing-data+KHG-data/dataset_hsv_test5_existing-data+KHG-data.hdf5', 'r') as hf:\n",
    "    image_train = np.array(hf['x_train'][:, :, :, :])\n",
    "    action_train = np.array(hf['y_train'][:, :])\n",
    "    image_val = np.array(hf['x_val'][:, :, :, :])\n",
    "    action_val = np.array(hf['y_val'][:, :])\n",
    "    \n",
    "    \n",
    "(x_train, y_train), (x_test, y_test) = (image_train, action_train), (image_val, action_val)\n",
    "\n",
    "x_train /= 255.\n",
    "x_test /= 255.\n",
    "\n",
    "model = tf.keras.models.Sequential([\n",
    "    tf.keras.layers.Conv2D(32, 3, activation='relu', input_shape=(48, 64, 3)),\n",
    "    tf.keras.layers.MaxPooling2D(),\n",
    "    tf.keras.layers.Conv2D(32, 3, activation='relu'),\n",
    "    tf.keras.layers.MaxPooling2D(),\n",
    "    tf.keras.layers.Conv2D(32, 3, activation='relu'),\n",
    "    tf.keras.layers.MaxPooling2D(),\n",
    "    tf.keras.layers.Flatten(),\n",
    "    tf.keras.layers.Dense(128, activation='relu'),\n",
    "    tf.keras.layers.Dense(64, activation='relu'),\n",
    "    tf.keras.layers.Dense(2)\n",
    "])\n",
    "\n",
    "optimizer = tf.keras.optimizers.RMSprop(0.001)\n",
    "\n",
    "model.compile(loss='mae', optimizer=optimizer, metrics=['mae', 'mse'])\n",
    "\n",
    "model.summary()\n",
    "\n",
    "model_path = './Model/Model_test5_existing-data+KHG-data' + '/' + model_version + '_{epoch:02d}_{loss:.4f}_{val_mae:.4f}'\n",
    "\n",
    "checkpointer = tf.keras.callbacks.ModelCheckpoint(filepath=model_path, monitor='val_mae', verbose=1, save_best_only=True)\n",
    "early_stopping_callback = tf.keras.callbacks.EarlyStopping(monitor='val_mae', patience=10)\n",
    "\n",
    "history = model.fit(x=x_train, y=y_train, batch_size=256, epochs=100, validation_data=(x_test, y_test), callbacks=[early_stopping_callback, checkpointer])\n",
    "\n",
    "print(\"\\n\")\n",
    "print(model.evaluate(x_test, y_test))\n",
    "\n",
    "# outputs = model(x_test[0:20])\n",
    "\n",
    "# print(outputs)\n",
    "\n",
    "# f = open('./Test/' + model_version + '/' + model_version + '_test.txt', 'a')\n",
    "# f.write(\"{}\".format(outputs))\n",
    "\n",
    "# x_test *= 255\n",
    "    \n",
    "# for i in range (0, 20) :\n",
    "#     cv2.imwrite('./Test/' + model_version + '/'+ model_path + '_' + str(i) + '.jpeg', x_test[i])\n",
    "\n",
    "# plotting\n",
    "# trainset : blue, line\n",
    "# testset : red, dot_line\n"
   ]
  },
  {
   "cell_type": "code",
   "execution_count": 38,
   "metadata": {},
   "outputs": [
    {
     "name": "stdout",
     "output_type": "stream",
     "text": [
      "[0.06644020974636078, 0.06590058654546738, 0.06546829640865326, 0.06431181728839874, 0.06523092091083527, 0.06465049088001251, 0.06532075256109238, 0.06532999128103256, 0.06547509133815765, 0.06517685949802399, 0.06435021013021469, 0.06510477513074875, 0.06665048748254776, 0.06490464508533478]\n",
      "\n",
      "\n",
      "[0.05993957072496414, 0.05088336393237114, 0.04892105236649513, 0.04760449752211571, 0.046500492841005325, 0.045623794198036194, 0.04482612758874893, 0.044140271842479706, 0.0434737503528595, 0.042932868003845215, 0.042483504861593246, 0.042019087821245193, 0.04163806140422821, 0.04120723158121109]\n",
      "\n",
      "\n",
      "[0.06644020974636078, 0.06590058654546738, 0.06546829640865326, 0.06431181728839874, 0.06523092091083527, 0.06465049088001251, 0.06532075256109238, 0.06532999128103256, 0.06547509133815765, 0.06517685949802399, 0.06435021013021469, 0.06510477513074875, 0.06665048748254776, 0.06490464508533478]\n",
      "\n",
      "\n",
      "[0.05993957072496414, 0.05088336393237114, 0.04892105236649513, 0.04760449752211571, 0.046500492841005325, 0.045623794198036194, 0.04482612758874893, 0.044140271842479706, 0.0434737503528595, 0.042932868003845215, 0.042483504861593246, 0.042019087821245193, 0.04163806140422821, 0.04120723158121109]\n",
      "\n",
      "\n",
      "14\n",
      "\n",
      "\n"
     ]
    },
    {
     "data": {
      "image/png": "[encoded data removed]",
      "text/plain": [
       "<Figure size 720x576 with 1 Axes>"
      ]
     },
     "metadata": {
      "needs_background": "light"
     },
     "output_type": "display_data"
    },
    {
     "data": {
      "text/plain": [
       "<function matplotlib.pyplot.show(close=None, block=None)>"
      ]
     },
     "execution_count": 38,
     "metadata": {},
     "output_type": "execute_result"
    },
    {
     "data": {
      "image/png": "[encoded data removed]",
      "text/plain": [
       "<Figure size 720x576 with 1 Axes>"
      ]
     },
     "metadata": {
      "needs_background": "light"
     },
     "output_type": "display_data"
    }
   ],
   "source": [
    "y_vloss = history.history['val_loss']   # testset\n",
    "y_loss = history.history['loss']        # trainset\n",
    "print(y_vloss)\n",
    "print('\\n')\n",
    "print(y_loss)\n",
    "print('\\n')\n",
    "y_vmae = history.history['val_mae']\n",
    "y_mae = history.history['mae']\n",
    "print(y_vmae)\n",
    "print('\\n')\n",
    "print(y_mae)\n",
    "print('\\n')\n",
    "x_len = np.arange(len(y_loss))\n",
    "print(len(y_loss))\n",
    "print('\\n')\n",
    "\n",
    "plt.figure(figsize=(10, 8))\n",
    "plt.plot(x_len+1, y_vloss, 'ro--', label='val_loss')\n",
    "plt.plot(x_len+1, y_loss, 'bo-', label='loss')\n",
    "plt.xlabel('Epoch', fontsize=14)\n",
    "plt.ylabel('Loss', fontsize=14)\n",
    "plt.legend(loc='upper right', fontsize=14)\n",
    "plt.xlim([0.5, len(y_loss)+0.5])\n",
    "plt.ylim([0.03, 0.08])\n",
    "plt.xticks([1, 3, 5, 7, 9, 11, 13, 15],fontsize=13)\n",
    "plt.yticks(fontsize=13)\n",
    "plt.grid()\n",
    "plt.show()\n",
    "\n",
    "plt.figure(figsize=(10, 8))\n",
    "plt.plot(x_len+1, y_vmae, 'ro--', label='val_mae')\n",
    "plt.plot(x_len+1, y_mae, 'bo-', label='mae')\n",
    "plt.xlabel('Epoch', fontsize=14)\n",
    "plt.ylabel('MAE', fontsize=14)\n",
    "plt.legend(loc='upper right', fontsize=14)\n",
    "plt.xlim([0.5, len(y_loss)+0.5])\n",
    "plt.ylim([0.03, 0.08])\n",
    "plt.xticks([1, 3, 5, 7, 9, 11, 13, 15], fontsize=13)\n",
    "plt.yticks(fontsize=13)\n",
    "plt.grid()\n",
    "plt.show"
   ]
  },
  {
   "cell_type": "code",
   "execution_count": null,
   "metadata": {},
   "outputs": [],
   "source": []
  }
 ],
 "metadata": {
  "kernelspec": {
   "display_name": "Python 3 (ipykernel)",
   "language": "python",
   "name": "python3"
  },
  "language_info": {
   "codemirror_mode": {
    "name": "ipython",
    "version": 3
   },
   "file_extension": ".py",
   "mimetype": "text/x-python",
   "name": "python",
   "nbconvert_exporter": "python",
   "pygments_lexer": "ipython3",
   "version": "3.8.12"
  }
 },
 "nbformat": 4,
 "nbformat_minor": 4
}
